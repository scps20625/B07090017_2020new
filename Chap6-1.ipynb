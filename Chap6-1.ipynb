{
 "cells": [
  {
   "cell_type": "markdown",
   "metadata": {},
   "source": [
    "# Chap6-1:DataFrame loc,iloc\n",
    "### DataFrame比numpy ndarry(element-wise)提供資料統整的功能\n",
    "### DataFrame通常為二維資料\n",
    "### 橫的為列(索引index)，直的為屬(columns)"
   ]
  },
  {
   "cell_type": "code",
   "execution_count": 10,
   "metadata": {},
   "outputs": [
    {
     "data": {
      "text/html": [
       "<div>\n",
       "<style scoped>\n",
       "    .dataframe tbody tr th:only-of-type {\n",
       "        vertical-align: middle;\n",
       "    }\n",
       "\n",
       "    .dataframe tbody tr th {\n",
       "        vertical-align: top;\n",
       "    }\n",
       "\n",
       "    .dataframe thead th {\n",
       "        text-align: right;\n",
       "    }\n",
       "</style>\n",
       "<table border=\"1\" class=\"dataframe\">\n",
       "  <thead>\n",
       "    <tr style=\"text-align: right;\">\n",
       "      <th></th>\n",
       "      <th>A</th>\n",
       "      <th>B</th>\n",
       "      <th>C</th>\n",
       "      <th>D</th>\n",
       "      <th>E</th>\n",
       "      <th>F</th>\n",
       "    </tr>\n",
       "  </thead>\n",
       "  <tbody>\n",
       "    <tr>\n",
       "      <td>a</td>\n",
       "      <td>0.436573</td>\n",
       "      <td>0.898583</td>\n",
       "      <td>0.356393</td>\n",
       "      <td>0.884226</td>\n",
       "      <td>0.787948</td>\n",
       "      <td>0.780037</td>\n",
       "    </tr>\n",
       "    <tr>\n",
       "      <td>b</td>\n",
       "      <td>0.186225</td>\n",
       "      <td>0.838656</td>\n",
       "      <td>0.395362</td>\n",
       "      <td>0.215019</td>\n",
       "      <td>0.779216</td>\n",
       "      <td>0.188382</td>\n",
       "    </tr>\n",
       "    <tr>\n",
       "      <td>c</td>\n",
       "      <td>0.910425</td>\n",
       "      <td>0.882818</td>\n",
       "      <td>0.213938</td>\n",
       "      <td>0.711404</td>\n",
       "      <td>0.877798</td>\n",
       "      <td>0.758859</td>\n",
       "    </tr>\n",
       "    <tr>\n",
       "      <td>d</td>\n",
       "      <td>0.543078</td>\n",
       "      <td>0.805200</td>\n",
       "      <td>0.981508</td>\n",
       "      <td>0.219040</td>\n",
       "      <td>0.666981</td>\n",
       "      <td>0.107593</td>\n",
       "    </tr>\n",
       "    <tr>\n",
       "      <td>e</td>\n",
       "      <td>0.056601</td>\n",
       "      <td>0.832699</td>\n",
       "      <td>0.562515</td>\n",
       "      <td>0.100859</td>\n",
       "      <td>0.685205</td>\n",
       "      <td>0.689048</td>\n",
       "    </tr>\n",
       "    <tr>\n",
       "      <td>f</td>\n",
       "      <td>0.381058</td>\n",
       "      <td>0.101101</td>\n",
       "      <td>0.196091</td>\n",
       "      <td>0.786480</td>\n",
       "      <td>0.849552</td>\n",
       "      <td>0.986039</td>\n",
       "    </tr>\n",
       "  </tbody>\n",
       "</table>\n",
       "</div>"
      ],
      "text/plain": [
       "          A         B         C         D         E         F\n",
       "a  0.436573  0.898583  0.356393  0.884226  0.787948  0.780037\n",
       "b  0.186225  0.838656  0.395362  0.215019  0.779216  0.188382\n",
       "c  0.910425  0.882818  0.213938  0.711404  0.877798  0.758859\n",
       "d  0.543078  0.805200  0.981508  0.219040  0.666981  0.107593\n",
       "e  0.056601  0.832699  0.562515  0.100859  0.685205  0.689048\n",
       "f  0.381058  0.101101  0.196091  0.786480  0.849552  0.986039"
      ]
     },
     "execution_count": 10,
     "metadata": {},
     "output_type": "execute_result"
    }
   ],
   "source": [
    "# 隨機產生DataFrame資料\n",
    "\n",
    "import numpy as np\n",
    "import pandas as pd\n",
    "frame=pd.DataFrame(np.random.rand(6,6),index=list('abcdef'),\n",
    "                     columns=list('ABCDEF'))\n",
    "frame"
   ]
  },
  {
   "cell_type": "markdown",
   "metadata": {},
   "source": [
    "# loc用欄位來找出DataFrame的資料\n",
    "# iloc用索引來找出DataFrame的資料"
   ]
  },
  {
   "cell_type": "code",
   "execution_count": 11,
   "metadata": {},
   "outputs": [
    {
     "data": {
      "text/html": [
       "<div>\n",
       "<style scoped>\n",
       "    .dataframe tbody tr th:only-of-type {\n",
       "        vertical-align: middle;\n",
       "    }\n",
       "\n",
       "    .dataframe tbody tr th {\n",
       "        vertical-align: top;\n",
       "    }\n",
       "\n",
       "    .dataframe thead th {\n",
       "        text-align: right;\n",
       "    }\n",
       "</style>\n",
       "<table border=\"1\" class=\"dataframe\">\n",
       "  <thead>\n",
       "    <tr style=\"text-align: right;\">\n",
       "      <th></th>\n",
       "      <th>A</th>\n",
       "      <th>B</th>\n",
       "      <th>C</th>\n",
       "      <th>D</th>\n",
       "      <th>E</th>\n",
       "      <th>F</th>\n",
       "    </tr>\n",
       "  </thead>\n",
       "  <tbody>\n",
       "    <tr>\n",
       "      <td>count</td>\n",
       "      <td>6.000000</td>\n",
       "      <td>6.000000</td>\n",
       "      <td>6.000000</td>\n",
       "      <td>6.000000</td>\n",
       "      <td>6.000000</td>\n",
       "      <td>6.000000</td>\n",
       "    </tr>\n",
       "    <tr>\n",
       "      <td>mean</td>\n",
       "      <td>0.418993</td>\n",
       "      <td>0.726509</td>\n",
       "      <td>0.450968</td>\n",
       "      <td>0.486171</td>\n",
       "      <td>0.774450</td>\n",
       "      <td>0.584993</td>\n",
       "    </tr>\n",
       "    <tr>\n",
       "      <td>std</td>\n",
       "      <td>0.298047</td>\n",
       "      <td>0.308293</td>\n",
       "      <td>0.292266</td>\n",
       "      <td>0.344300</td>\n",
       "      <td>0.084900</td>\n",
       "      <td>0.353595</td>\n",
       "    </tr>\n",
       "    <tr>\n",
       "      <td>min</td>\n",
       "      <td>0.056601</td>\n",
       "      <td>0.101101</td>\n",
       "      <td>0.196091</td>\n",
       "      <td>0.100859</td>\n",
       "      <td>0.666981</td>\n",
       "      <td>0.107593</td>\n",
       "    </tr>\n",
       "    <tr>\n",
       "      <td>25%</td>\n",
       "      <td>0.234934</td>\n",
       "      <td>0.812075</td>\n",
       "      <td>0.249552</td>\n",
       "      <td>0.216024</td>\n",
       "      <td>0.708708</td>\n",
       "      <td>0.313549</td>\n",
       "    </tr>\n",
       "    <tr>\n",
       "      <td>50%</td>\n",
       "      <td>0.408816</td>\n",
       "      <td>0.835677</td>\n",
       "      <td>0.375878</td>\n",
       "      <td>0.465222</td>\n",
       "      <td>0.783582</td>\n",
       "      <td>0.723954</td>\n",
       "    </tr>\n",
       "    <tr>\n",
       "      <td>75%</td>\n",
       "      <td>0.516452</td>\n",
       "      <td>0.871777</td>\n",
       "      <td>0.520726</td>\n",
       "      <td>0.767711</td>\n",
       "      <td>0.834151</td>\n",
       "      <td>0.774743</td>\n",
       "    </tr>\n",
       "    <tr>\n",
       "      <td>max</td>\n",
       "      <td>0.910425</td>\n",
       "      <td>0.898583</td>\n",
       "      <td>0.981508</td>\n",
       "      <td>0.884226</td>\n",
       "      <td>0.877798</td>\n",
       "      <td>0.986039</td>\n",
       "    </tr>\n",
       "  </tbody>\n",
       "</table>\n",
       "</div>"
      ],
      "text/plain": [
       "              A         B         C         D         E         F\n",
       "count  6.000000  6.000000  6.000000  6.000000  6.000000  6.000000\n",
       "mean   0.418993  0.726509  0.450968  0.486171  0.774450  0.584993\n",
       "std    0.298047  0.308293  0.292266  0.344300  0.084900  0.353595\n",
       "min    0.056601  0.101101  0.196091  0.100859  0.666981  0.107593\n",
       "25%    0.234934  0.812075  0.249552  0.216024  0.708708  0.313549\n",
       "50%    0.408816  0.835677  0.375878  0.465222  0.783582  0.723954\n",
       "75%    0.516452  0.871777  0.520726  0.767711  0.834151  0.774743\n",
       "max    0.910425  0.898583  0.981508  0.884226  0.877798  0.986039"
      ]
     },
     "execution_count": 11,
     "metadata": {},
     "output_type": "execute_result"
    }
   ],
   "source": [
    "frame.describe()"
   ]
  },
  {
   "cell_type": "code",
   "execution_count": 12,
   "metadata": {},
   "outputs": [
    {
     "data": {
      "text/plain": [
       "0.4365732923258072"
      ]
     },
     "execution_count": 12,
     "metadata": {},
     "output_type": "execute_result"
    }
   ],
   "source": [
    "frame.loc['a','A']"
   ]
  },
  {
   "cell_type": "code",
   "execution_count": 15,
   "metadata": {},
   "outputs": [
    {
     "data": {
      "text/html": [
       "<div>\n",
       "<style scoped>\n",
       "    .dataframe tbody tr th:only-of-type {\n",
       "        vertical-align: middle;\n",
       "    }\n",
       "\n",
       "    .dataframe tbody tr th {\n",
       "        vertical-align: top;\n",
       "    }\n",
       "\n",
       "    .dataframe thead th {\n",
       "        text-align: right;\n",
       "    }\n",
       "</style>\n",
       "<table border=\"1\" class=\"dataframe\">\n",
       "  <thead>\n",
       "    <tr style=\"text-align: right;\">\n",
       "      <th></th>\n",
       "      <th>A</th>\n",
       "      <th>B</th>\n",
       "      <th>C</th>\n",
       "      <th>D</th>\n",
       "      <th>E</th>\n",
       "      <th>F</th>\n",
       "    </tr>\n",
       "  </thead>\n",
       "  <tbody>\n",
       "    <tr>\n",
       "      <td>a</td>\n",
       "      <td>0.436573</td>\n",
       "      <td>0.898583</td>\n",
       "      <td>0.356393</td>\n",
       "      <td>0.884226</td>\n",
       "      <td>0.787948</td>\n",
       "      <td>0.780037</td>\n",
       "    </tr>\n",
       "    <tr>\n",
       "      <td>b</td>\n",
       "      <td>0.186225</td>\n",
       "      <td>0.838656</td>\n",
       "      <td>0.395362</td>\n",
       "      <td>0.215019</td>\n",
       "      <td>0.779216</td>\n",
       "      <td>0.188382</td>\n",
       "    </tr>\n",
       "  </tbody>\n",
       "</table>\n",
       "</div>"
      ],
      "text/plain": [
       "          A         B         C         D         E         F\n",
       "a  0.436573  0.898583  0.356393  0.884226  0.787948  0.780037\n",
       "b  0.186225  0.838656  0.395362  0.215019  0.779216  0.188382"
      ]
     },
     "execution_count": 15,
     "metadata": {},
     "output_type": "execute_result"
    }
   ],
   "source": [
    "# 取前兩列的對應資料\n",
    "frame.loc['a':'b',:]"
   ]
  },
  {
   "cell_type": "code",
   "execution_count": 17,
   "metadata": {},
   "outputs": [
    {
     "data": {
      "text/html": [
       "<div>\n",
       "<style scoped>\n",
       "    .dataframe tbody tr th:only-of-type {\n",
       "        vertical-align: middle;\n",
       "    }\n",
       "\n",
       "    .dataframe tbody tr th {\n",
       "        vertical-align: top;\n",
       "    }\n",
       "\n",
       "    .dataframe thead th {\n",
       "        text-align: right;\n",
       "    }\n",
       "</style>\n",
       "<table border=\"1\" class=\"dataframe\">\n",
       "  <thead>\n",
       "    <tr style=\"text-align: right;\">\n",
       "      <th></th>\n",
       "      <th>A</th>\n",
       "      <th>B</th>\n",
       "    </tr>\n",
       "  </thead>\n",
       "  <tbody>\n",
       "    <tr>\n",
       "      <td>a</td>\n",
       "      <td>0.436573</td>\n",
       "      <td>0.898583</td>\n",
       "    </tr>\n",
       "    <tr>\n",
       "      <td>b</td>\n",
       "      <td>0.186225</td>\n",
       "      <td>0.838656</td>\n",
       "    </tr>\n",
       "    <tr>\n",
       "      <td>c</td>\n",
       "      <td>0.910425</td>\n",
       "      <td>0.882818</td>\n",
       "    </tr>\n",
       "    <tr>\n",
       "      <td>d</td>\n",
       "      <td>0.543078</td>\n",
       "      <td>0.805200</td>\n",
       "    </tr>\n",
       "    <tr>\n",
       "      <td>e</td>\n",
       "      <td>0.056601</td>\n",
       "      <td>0.832699</td>\n",
       "    </tr>\n",
       "    <tr>\n",
       "      <td>f</td>\n",
       "      <td>0.381058</td>\n",
       "      <td>0.101101</td>\n",
       "    </tr>\n",
       "  </tbody>\n",
       "</table>\n",
       "</div>"
      ],
      "text/plain": [
       "          A         B\n",
       "a  0.436573  0.898583\n",
       "b  0.186225  0.838656\n",
       "c  0.910425  0.882818\n",
       "d  0.543078  0.805200\n",
       "e  0.056601  0.832699\n",
       "f  0.381058  0.101101"
      ]
     },
     "execution_count": 17,
     "metadata": {},
     "output_type": "execute_result"
    }
   ],
   "source": [
    "# 取前兩欄的對應資料\n",
    "frame.loc[:,'A':'B']"
   ]
  },
  {
   "cell_type": "code",
   "execution_count": 21,
   "metadata": {},
   "outputs": [
    {
     "data": {
      "text/html": [
       "<div>\n",
       "<style scoped>\n",
       "    .dataframe tbody tr th:only-of-type {\n",
       "        vertical-align: middle;\n",
       "    }\n",
       "\n",
       "    .dataframe tbody tr th {\n",
       "        vertical-align: top;\n",
       "    }\n",
       "\n",
       "    .dataframe thead th {\n",
       "        text-align: right;\n",
       "    }\n",
       "</style>\n",
       "<table border=\"1\" class=\"dataframe\">\n",
       "  <thead>\n",
       "    <tr style=\"text-align: right;\">\n",
       "      <th></th>\n",
       "      <th>A</th>\n",
       "      <th>B</th>\n",
       "      <th>C</th>\n",
       "      <th>D</th>\n",
       "      <th>E</th>\n",
       "      <th>F</th>\n",
       "    </tr>\n",
       "  </thead>\n",
       "  <tbody>\n",
       "    <tr>\n",
       "      <td>a</td>\n",
       "      <td>0.436573</td>\n",
       "      <td>0.898583</td>\n",
       "      <td>0.356393</td>\n",
       "      <td>0.884226</td>\n",
       "      <td>0.787948</td>\n",
       "      <td>0.780037</td>\n",
       "    </tr>\n",
       "    <tr>\n",
       "      <td>c</td>\n",
       "      <td>0.910425</td>\n",
       "      <td>0.882818</td>\n",
       "      <td>0.213938</td>\n",
       "      <td>0.711404</td>\n",
       "      <td>0.877798</td>\n",
       "      <td>0.758859</td>\n",
       "    </tr>\n",
       "  </tbody>\n",
       "</table>\n",
       "</div>"
      ],
      "text/plain": [
       "          A         B         C         D         E         F\n",
       "a  0.436573  0.898583  0.356393  0.884226  0.787948  0.780037\n",
       "c  0.910425  0.882818  0.213938  0.711404  0.877798  0.758859"
      ]
     },
     "execution_count": 21,
     "metadata": {},
     "output_type": "execute_result"
    }
   ],
   "source": [
    "# 取特殊列、欄的資料\n",
    "frame.loc[['a','c'],:]"
   ]
  },
  {
   "cell_type": "code",
   "execution_count": 25,
   "metadata": {},
   "outputs": [
    {
     "name": "stdout",
     "output_type": "stream",
     "text": [
      "          A         B         C         D         E         F\n",
      "a  0.436573  0.898583  0.356393  0.884226  0.787948  0.780037\n",
      "c  0.910425  0.882818  0.213938  0.711404  0.877798  0.758859\n",
      "          A         C\n",
      "a  0.436573  0.356393\n",
      "b  0.186225  0.395362\n",
      "c  0.910425  0.213938\n",
      "d  0.543078  0.981508\n",
      "e  0.056601  0.562515\n",
      "f  0.381058  0.196091\n",
      "          A         D\n",
      "a  0.436573  0.884226\n",
      "d  0.543078  0.219040\n"
     ]
    }
   ],
   "source": [
    "# 取特殊列、欄的資料\n",
    "print(frame.loc[['a','c'],:])\n",
    "print(frame.loc[:,['A','C']])\n",
    "print(frame.loc[['a','d'],['A',\"D\"]])"
   ]
  },
  {
   "cell_type": "code",
   "execution_count": 30,
   "metadata": {},
   "outputs": [
    {
     "data": {
      "text/html": [
       "<div>\n",
       "<style scoped>\n",
       "    .dataframe tbody tr th:only-of-type {\n",
       "        vertical-align: middle;\n",
       "    }\n",
       "\n",
       "    .dataframe tbody tr th {\n",
       "        vertical-align: top;\n",
       "    }\n",
       "\n",
       "    .dataframe thead th {\n",
       "        text-align: right;\n",
       "    }\n",
       "</style>\n",
       "<table border=\"1\" class=\"dataframe\">\n",
       "  <thead>\n",
       "    <tr style=\"text-align: right;\">\n",
       "      <th></th>\n",
       "      <th>A</th>\n",
       "      <th>B</th>\n",
       "      <th>C</th>\n",
       "      <th>D</th>\n",
       "      <th>E</th>\n",
       "      <th>F</th>\n",
       "    </tr>\n",
       "  </thead>\n",
       "  <tbody>\n",
       "    <tr>\n",
       "      <td>a</td>\n",
       "      <td>0.436573</td>\n",
       "      <td>0.898583</td>\n",
       "      <td>0.356393</td>\n",
       "      <td>0.884226</td>\n",
       "      <td>0.787948</td>\n",
       "      <td>0.780037</td>\n",
       "    </tr>\n",
       "    <tr>\n",
       "      <td>b</td>\n",
       "      <td>0.186225</td>\n",
       "      <td>0.838656</td>\n",
       "      <td>0.395362</td>\n",
       "      <td>0.215019</td>\n",
       "      <td>0.779216</td>\n",
       "      <td>0.188382</td>\n",
       "    </tr>\n",
       "    <tr>\n",
       "      <td>c</td>\n",
       "      <td>0.910425</td>\n",
       "      <td>0.882818</td>\n",
       "      <td>0.213938</td>\n",
       "      <td>0.711404</td>\n",
       "      <td>0.877798</td>\n",
       "      <td>0.758859</td>\n",
       "    </tr>\n",
       "    <tr>\n",
       "      <td>d</td>\n",
       "      <td>0.543078</td>\n",
       "      <td>0.805200</td>\n",
       "      <td>0.981508</td>\n",
       "      <td>0.219040</td>\n",
       "      <td>0.666981</td>\n",
       "      <td>0.107593</td>\n",
       "    </tr>\n",
       "    <tr>\n",
       "      <td>e</td>\n",
       "      <td>0.056601</td>\n",
       "      <td>0.832699</td>\n",
       "      <td>0.562515</td>\n",
       "      <td>0.100859</td>\n",
       "      <td>0.685205</td>\n",
       "      <td>0.689048</td>\n",
       "    </tr>\n",
       "    <tr>\n",
       "      <td>f</td>\n",
       "      <td>0.381058</td>\n",
       "      <td>0.101101</td>\n",
       "      <td>0.196091</td>\n",
       "      <td>0.786480</td>\n",
       "      <td>0.849552</td>\n",
       "      <td>0.986039</td>\n",
       "    </tr>\n",
       "  </tbody>\n",
       "</table>\n",
       "</div>"
      ],
      "text/plain": [
       "          A         B         C         D         E         F\n",
       "a  0.436573  0.898583  0.356393  0.884226  0.787948  0.780037\n",
       "b  0.186225  0.838656  0.395362  0.215019  0.779216  0.188382\n",
       "c  0.910425  0.882818  0.213938  0.711404  0.877798  0.758859\n",
       "d  0.543078  0.805200  0.981508  0.219040  0.666981  0.107593\n",
       "e  0.056601  0.832699  0.562515  0.100859  0.685205  0.689048\n",
       "f  0.381058  0.101101  0.196091  0.786480  0.849552  0.986039"
      ]
     },
     "execution_count": 30,
     "metadata": {},
     "output_type": "execute_result"
    }
   ],
   "source": [
    "frame"
   ]
  },
  {
   "cell_type": "markdown",
   "metadata": {},
   "source": [
    "# iloc是利用列索引與欄索引進行資料定位，都是從0開始"
   ]
  },
  {
   "cell_type": "code",
   "execution_count": 37,
   "metadata": {},
   "outputs": [
    {
     "data": {
      "text/plain": [
       "0.4365732923258072"
      ]
     },
     "execution_count": 37,
     "metadata": {},
     "output_type": "execute_result"
    }
   ],
   "source": [
    "frame.iloc[0,0]"
   ]
  },
  {
   "cell_type": "code",
   "execution_count": 32,
   "metadata": {},
   "outputs": [
    {
     "data": {
      "text/html": [
       "<div>\n",
       "<style scoped>\n",
       "    .dataframe tbody tr th:only-of-type {\n",
       "        vertical-align: middle;\n",
       "    }\n",
       "\n",
       "    .dataframe tbody tr th {\n",
       "        vertical-align: top;\n",
       "    }\n",
       "\n",
       "    .dataframe thead th {\n",
       "        text-align: right;\n",
       "    }\n",
       "</style>\n",
       "<table border=\"1\" class=\"dataframe\">\n",
       "  <thead>\n",
       "    <tr style=\"text-align: right;\">\n",
       "      <th></th>\n",
       "      <th>A</th>\n",
       "      <th>B</th>\n",
       "      <th>C</th>\n",
       "      <th>D</th>\n",
       "      <th>E</th>\n",
       "      <th>F</th>\n",
       "    </tr>\n",
       "  </thead>\n",
       "  <tbody>\n",
       "    <tr>\n",
       "      <td>a</td>\n",
       "      <td>0.436573</td>\n",
       "      <td>0.898583</td>\n",
       "      <td>0.356393</td>\n",
       "      <td>0.884226</td>\n",
       "      <td>0.787948</td>\n",
       "      <td>0.780037</td>\n",
       "    </tr>\n",
       "    <tr>\n",
       "      <td>b</td>\n",
       "      <td>0.186225</td>\n",
       "      <td>0.838656</td>\n",
       "      <td>0.395362</td>\n",
       "      <td>0.215019</td>\n",
       "      <td>0.779216</td>\n",
       "      <td>0.188382</td>\n",
       "    </tr>\n",
       "  </tbody>\n",
       "</table>\n",
       "</div>"
      ],
      "text/plain": [
       "          A         B         C         D         E         F\n",
       "a  0.436573  0.898583  0.356393  0.884226  0.787948  0.780037\n",
       "b  0.186225  0.838656  0.395362  0.215019  0.779216  0.188382"
      ]
     },
     "execution_count": 32,
     "metadata": {},
     "output_type": "execute_result"
    }
   ],
   "source": [
    "# 取前兩列的資料\n",
    "frame.iloc[0:2,:]"
   ]
  },
  {
   "cell_type": "code",
   "execution_count": 33,
   "metadata": {},
   "outputs": [
    {
     "data": {
      "text/html": [
       "<div>\n",
       "<style scoped>\n",
       "    .dataframe tbody tr th:only-of-type {\n",
       "        vertical-align: middle;\n",
       "    }\n",
       "\n",
       "    .dataframe tbody tr th {\n",
       "        vertical-align: top;\n",
       "    }\n",
       "\n",
       "    .dataframe thead th {\n",
       "        text-align: right;\n",
       "    }\n",
       "</style>\n",
       "<table border=\"1\" class=\"dataframe\">\n",
       "  <thead>\n",
       "    <tr style=\"text-align: right;\">\n",
       "      <th></th>\n",
       "      <th>A</th>\n",
       "      <th>B</th>\n",
       "    </tr>\n",
       "  </thead>\n",
       "  <tbody>\n",
       "    <tr>\n",
       "      <td>a</td>\n",
       "      <td>0.436573</td>\n",
       "      <td>0.898583</td>\n",
       "    </tr>\n",
       "    <tr>\n",
       "      <td>b</td>\n",
       "      <td>0.186225</td>\n",
       "      <td>0.838656</td>\n",
       "    </tr>\n",
       "  </tbody>\n",
       "</table>\n",
       "</div>"
      ],
      "text/plain": [
       "          A         B\n",
       "a  0.436573  0.898583\n",
       "b  0.186225  0.838656"
      ]
     },
     "execution_count": 33,
     "metadata": {},
     "output_type": "execute_result"
    }
   ],
   "source": [
    "# 取前兩列、兩欄之資料\n",
    "frame.iloc[0:2, 0:2]"
   ]
  },
  {
   "cell_type": "code",
   "execution_count": 38,
   "metadata": {},
   "outputs": [
    {
     "name": "stdout",
     "output_type": "stream",
     "text": [
      "          A         B         C         D         E         F\n",
      "a  0.436573  0.898583  0.356393  0.884226  0.787948  0.780037\n",
      "c  0.910425  0.882818  0.213938  0.711404  0.877798  0.758859\n",
      "          A         C\n",
      "a  0.436573  0.356393\n",
      "b  0.186225  0.395362\n",
      "c  0.910425  0.213938\n",
      "d  0.543078  0.981508\n",
      "e  0.056601  0.562515\n",
      "f  0.381058  0.196091\n",
      "          A         D\n",
      "a  0.436573  0.884226\n",
      "d  0.543078  0.219040\n"
     ]
    }
   ],
   "source": [
    "# 取特殊列、欄的資料\n",
    "print(frame.iloc[[0,2],:])\n",
    "print(frame.iloc[:,[0,2]])\n",
    "print(frame.iloc[[0,3],[0,3]])"
   ]
  },
  {
   "cell_type": "markdown",
   "metadata": {},
   "source": [
    "# Chap6"
   ]
  },
  {
   "cell_type": "code",
   "execution_count": 40,
   "metadata": {},
   "outputs": [],
   "source": [
    "# Chap6 的 請複製過去!!!!!\n",
    "import numpy as np\n",
    "import pandas as pd\n",
    "groups = [\"Modern Web\",\"DevOps\",np.nan,\"Big Data\",\"Security\",\"自我挑戰組\"]\n",
    "ironmen = [59,9,19,14,6,np.nan]"
   ]
  },
  {
   "cell_type": "code",
   "execution_count": 41,
   "metadata": {},
   "outputs": [
    {
     "name": "stdout",
     "output_type": "stream",
     "text": [
      "0    False\n",
      "1    False\n",
      "2     True\n",
      "3    False\n",
      "4    False\n",
      "5    False\n",
      "Name: group, dtype: bool\n",
      "0     True\n",
      "1     True\n",
      "2     True\n",
      "3     True\n",
      "4     True\n",
      "5    False\n",
      "Name: ironmen, dtype: bool\n"
     ]
    }
   ],
   "source": [
    "# Chap6 的 請複製過去!!!!!\n",
    "import numpy as np\n",
    "import pandas as pd\n",
    "groups = [\"Modern Web\",\"DevOps\",np.nan,\"Big Data\",\"Security\",\"自我挑戰組\"]\n",
    "ironmen = [59,9,19,14,6,np.nan]\n",
    "ironmen_dict = {\"group\":groups,\"ironmen\":ironmen}\n",
    "ironmen_df=pd.DataFrame(ironmen_dict)\n",
    "# print(ironmen_df)\n",
    "print(ironmen_df.loc[:,\"group\"].isnull())\n",
    "print(ironmen_df.loc[:,\"ironmen\"].notnull())"
   ]
  },
  {
   "cell_type": "code",
   "execution_count": 42,
   "metadata": {},
   "outputs": [
    {
     "name": "stdout",
     "output_type": "stream",
     "text": [
      "2    NaN\n",
      "Name: group, dtype: object\n",
      "0    59.0\n",
      "1     9.0\n",
      "3    14.0\n",
      "4     6.0\n",
      "5     NaN\n",
      "Name: ironmen, dtype: float64\n"
     ]
    }
   ],
   "source": [
    "# Chap6 的 請複製過去!!!!!\n",
    "print(ironmen_df.group[ironmen_df.loc[:,\"group\"].isnull()])\n",
    "print(ironmen_df.ironmen[ironmen_df.loc[:,\"group\"].notnull()])"
   ]
  },
  {
   "cell_type": "code",
   "execution_count": 45,
   "metadata": {},
   "outputs": [
    {
     "name": "stdout",
     "output_type": "stream",
     "text": [
      "        group  ironmen\n",
      "0  Modern Web     59.0\n",
      "1      DevOps      9.0\n",
      "2         NaN     19.0\n",
      "3    Big Data     14.0\n",
      "4    Security      6.0\n",
      "5       自我挑戰組      NaN\n",
      "        group  ironmen\n",
      "0  Modern Web     59.0\n",
      "1      DevOps      9.0\n",
      "3    Big Data     14.0\n",
      "4    Security      6.0\n",
      "        group  ironmen\n",
      "0  Modern Web     59.0\n",
      "1      DevOps      9.0\n",
      "2           0     19.0\n",
      "3    Big Data     14.0\n",
      "4    Security      6.0\n",
      "5       自我挑戰組      0.0\n",
      "        group  ironmen\n",
      "0  Modern Web     59.0\n",
      "1      DevOps      9.0\n",
      "2       Cloud     19.0\n",
      "3    Big Data     14.0\n",
      "4    Security      6.0\n",
      "5       自我挑戰組     71.0\n"
     ]
    }
   ],
   "source": [
    "print(ironmen_df)\n",
    "ironmen_df_dropped = ironmen_df.dropna() #刪除遺失值\n",
    "print(ironmen_df_dropped)\n",
    "ironmen_df_filled = ironmen_df.fillna(0)\n",
    "print(ironmen_df_filled)\n",
    "ironmen_df_fillvalue = ironmen_df.fillna({\"group\":\"Cloud\",\"ironmen\":71})\n",
    "print(ironmen_df_fillvalue)"
   ]
  },
  {
   "cell_type": "code",
   "execution_count": null,
   "metadata": {},
   "outputs": [],
   "source": []
  }
 ],
 "metadata": {
  "kernelspec": {
   "display_name": "Python 3",
   "language": "python",
   "name": "python3"
  },
  "language_info": {
   "codemirror_mode": {
    "name": "ipython",
    "version": 3
   },
   "file_extension": ".py",
   "mimetype": "text/x-python",
   "name": "python",
   "nbconvert_exporter": "python",
   "pygments_lexer": "ipython3",
   "version": "3.7.4"
  }
 },
 "nbformat": 4,
 "nbformat_minor": 2
}
